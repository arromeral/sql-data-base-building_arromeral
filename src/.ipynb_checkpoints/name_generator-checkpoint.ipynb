{
 "cells": [
  {
   "cell_type": "code",
   "execution_count": 1,
   "id": "fbd21a7e",
   "metadata": {},
   "outputs": [
    {
     "name": "stdout",
     "output_type": "stream",
     "text": [
      "Collecting Faker\n",
      "  Obtaining dependency information for Faker from https://files.pythonhosted.org/packages/de/f4/1e0d8d5050671d5d72ec51494adf04723c73dc53642db292102b7954c617/Faker-19.12.0-py3-none-any.whl.metadata\n",
      "  Downloading Faker-19.12.0-py3-none-any.whl.metadata (15 kB)\n",
      "Requirement already satisfied: python-dateutil>=2.4 in c:\\users\\daarr\\anaconda3\\lib\\site-packages (from Faker) (2.8.2)\n",
      "Requirement already satisfied: six>=1.5 in c:\\users\\daarr\\anaconda3\\lib\\site-packages (from python-dateutil>=2.4->Faker) (1.16.0)\n",
      "Downloading Faker-19.12.0-py3-none-any.whl (1.7 MB)\n",
      "   ---------------------------------------- 0.0/1.7 MB ? eta -:--:--\n",
      "   -- ------------------------------------- 0.1/1.7 MB 3.6 MB/s eta 0:00:01\n",
      "   ----- ---------------------------------- 0.2/1.7 MB 3.0 MB/s eta 0:00:01\n",
      "   --------- ------------------------------ 0.4/1.7 MB 3.2 MB/s eta 0:00:01\n",
      "   ------------ --------------------------- 0.5/1.7 MB 3.1 MB/s eta 0:00:01\n",
      "   --------------- ------------------------ 0.7/1.7 MB 3.1 MB/s eta 0:00:01\n",
      "   ------------------- -------------------- 0.8/1.7 MB 3.1 MB/s eta 0:00:01\n",
      "   ---------------------- ----------------- 1.0/1.7 MB 3.1 MB/s eta 0:00:01\n",
      "   ------------------------- -------------- 1.1/1.7 MB 3.1 MB/s eta 0:00:01\n",
      "   ----------------------------- ---------- 1.3/1.7 MB 3.1 MB/s eta 0:00:01\n",
      "   -------------------------------- ------- 1.4/1.7 MB 3.1 MB/s eta 0:00:01\n",
      "   ----------------------------------- ---- 1.5/1.7 MB 3.1 MB/s eta 0:00:01\n",
      "   ---------------------------------------  1.7/1.7 MB 3.1 MB/s eta 0:00:01\n",
      "   ---------------------------------------- 1.7/1.7 MB 3.0 MB/s eta 0:00:00\n",
      "Installing collected packages: Faker\n",
      "Successfully installed Faker-19.12.0\n",
      "Note: you may need to restart the kernel to use updated packages.\n"
     ]
    }
   ],
   "source": [
    "%pip install Faker"
   ]
  },
  {
   "cell_type": "code",
   "execution_count": 2,
   "id": "a5c6ecf1",
   "metadata": {},
   "outputs": [
    {
     "name": "stdout",
     "output_type": "stream",
     "text": [
      "Archivo CSV generado satisfactoriamente.\n"
     ]
    }
   ],
   "source": [
    "import csv\n",
    "from faker import Faker\n",
    "\n",
    "fake = Faker()\n",
    "\n",
    "# Definir la cantidad de personas que deseas generar\n",
    "num_personas = 20\n",
    "\n",
    "# Generar datos aleatorios y escribirlos en el archivo CSV\n",
    "with open('datos_personas.csv', 'w', newline='') as archivo_csv:\n",
    "    writer = csv.writer(archivo_csv)\n",
    "    writer.writerow([\"nombre\", \"apellido\", \"direccion\", \"telefono\", \"email\"])\n",
    "\n",
    "    for _ in range(num_personas):\n",
    "        nombre = fake.first_name()\n",
    "        apellido = fake.last_name()\n",
    "        direccion = fake.address()\n",
    "        telefono = fake.phone_number()\n",
    "        email = fake.email()\n",
    "\n",
    "        writer.writerow([nombre, apellido, direccion, telefono, email])\n",
    "\n",
    "print(\"Archivo CSV generado satisfactoriamente.\")"
   ]
  },
  {
   "cell_type": "code",
   "execution_count": 6,
   "id": "83ac053b",
   "metadata": {},
   "outputs": [
    {
     "name": "stdout",
     "output_type": "stream",
     "text": [
      "\n",
      "Welcome to Python 3.11's help utility!\n",
      "\n",
      "If this is your first time using Python, you should definitely check out\n",
      "the tutorial on the internet at https://docs.python.org/3.11/tutorial/.\n",
      "\n",
      "Enter the name of any module, keyword, or topic to get help on writing\n",
      "Python programs and using Python modules.  To quit this help utility and\n",
      "return to the interpreter, just type \"quit\".\n",
      "\n",
      "To get a list of available modules, keywords, symbols, or topics, type\n",
      "\"modules\", \"keywords\", \"symbols\", or \"topics\".  Each module also comes\n",
      "with a one-line summary of what it does; to list the modules whose name\n",
      "or summary contain a given string such as \"spam\", type \"modules spam\".\n",
      "\n",
      "\n",
      "You are now leaving help and returning to the Python interpreter.\n",
      "If you want to ask for help on a particular object directly from the\n",
      "interpreter, you can type \"help(object)\".  Executing \"help('string')\"\n",
      "has the same effect as typing a particular string at the help> prompt.\n"
     ]
    },
    {
     "data": {
      "text/plain": [
       "<faker.proxy.Faker at 0x24950e72fd0>"
      ]
     },
     "execution_count": 6,
     "metadata": {},
     "output_type": "execute_result"
    }
   ],
   "source": [
    "Faker(help())"
   ]
  },
  {
   "cell_type": "code",
   "execution_count": 8,
   "id": "7952ff2d",
   "metadata": {},
   "outputs": [
    {
     "name": "stdout",
     "output_type": "stream",
     "text": [
      "Archivo CSV generado satisfactoriamente.\n"
     ]
    }
   ],
   "source": [
    "fake2 = Faker()\n",
    "\n",
    "# Definir la cantidad de personas que deseas generar\n",
    "num_personas = 6\n",
    "\n",
    "# Generar datos aleatorios y escribirlos en el archivo CSV\n",
    "with open('datos_personas.csv', 'w', newline='') as archivo_csv:\n",
    "    writer = csv.writer(archivo_csv)\n",
    "    writer.writerow([\"nombre\", \"apellido\"])\n",
    "\n",
    "    for _ in range(num_personas):\n",
    "        nombre = fake.first_name()\n",
    "        apellido = fake.last_name()\n",
    "        \n",
    "\n",
    "        writer.writerow([nombre, apellido])\n",
    "\n",
    "print(\"Archivo CSV generado satisfactoriamente.\")"
   ]
  },
  {
   "cell_type": "code",
   "execution_count": null,
   "id": "136e4c2a",
   "metadata": {},
   "outputs": [],
   "source": []
  },
  {
   "cell_type": "code",
   "execution_count": null,
   "id": "feffd63d",
   "metadata": {},
   "outputs": [],
   "source": []
  }
 ],
 "metadata": {
  "kernelspec": {
   "display_name": "clase",
   "language": "python",
   "name": "clase"
  },
  "language_info": {
   "codemirror_mode": {
    "name": "ipython",
    "version": 3
   },
   "file_extension": ".py",
   "mimetype": "text/x-python",
   "name": "python",
   "nbconvert_exporter": "python",
   "pygments_lexer": "ipython3",
   "version": "3.11.4"
  }
 },
 "nbformat": 4,
 "nbformat_minor": 5
}

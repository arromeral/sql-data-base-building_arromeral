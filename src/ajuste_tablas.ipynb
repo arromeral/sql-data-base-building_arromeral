{
 "cells": [
  {
   "cell_type": "code",
   "execution_count": 1,
   "id": "99d33a24",
   "metadata": {},
   "outputs": [],
   "source": [
    "import pandas as pd\n",
    "import numpy as np\n",
    "import warnings\n",
    "warnings.filterwarnings('ignore')\n",
    "import pylab as plt \n",
    "import seaborn as sns"
   ]
  },
  {
   "cell_type": "code",
   "execution_count": 2,
   "id": "295007b6",
   "metadata": {},
   "outputs": [
    {
     "data": {
      "text/plain": [
       "(1000, 5)"
      ]
     },
     "execution_count": 2,
     "metadata": {},
     "output_type": "execute_result"
    }
   ],
   "source": [
    "#Carga de datos y  comprobación del shape\n",
    "pd.set_option('display.max_columns', None)\n",
    "old_HDD_ori = pd.read_csv(\"../data/old_HDD.csv\", encoding = \"latin1\")\n",
    "old_HDD_ori.shape"
   ]
  },
  {
   "cell_type": "code",
   "execution_count": 3,
   "id": "45963aa6",
   "metadata": {},
   "outputs": [
    {
     "data": {
      "text/plain": [
       "(200, 4)"
      ]
     },
     "execution_count": 3,
     "metadata": {},
     "output_type": "execute_result"
    }
   ],
   "source": [
    "#Carga de datos y  comprobación del shape\n",
    "pd.set_option('display.max_columns', None)\n",
    "actor_ori = pd.read_csv(\"../data/actor.csv\", encoding = \"latin1\")\n",
    "actor_ori.shape"
   ]
  },
  {
   "cell_type": "code",
   "execution_count": 4,
   "id": "d2aae2df",
   "metadata": {},
   "outputs": [
    {
     "data": {
      "text/plain": [
       "(1000, 13)"
      ]
     },
     "execution_count": 4,
     "metadata": {},
     "output_type": "execute_result"
    }
   ],
   "source": [
    "#Carga de datos y  comprobación del shape\n",
    "pd.set_option('display.max_columns', None)\n",
    "film_ori = pd.read_csv(\"../data/film.csv\", encoding = \"latin1\")\n",
    "film_ori.shape\n"
   ]
  },
  {
   "cell_type": "code",
   "execution_count": 5,
   "id": "748aa831",
   "metadata": {},
   "outputs": [],
   "source": [
    "old_HDD = old_HDD_ori.copy()\n",
    "actor = actor_ori.copy()\n",
    "film = film_ori.copy()"
   ]
  },
  {
   "cell_type": "code",
   "execution_count": 6,
   "id": "e9cf187e",
   "metadata": {},
   "outputs": [],
   "source": [
    "actor.drop_duplicates([\"last_name\",\"first_name\"], inplace = True)"
   ]
  },
  {
   "cell_type": "markdown",
   "id": "96317abf",
   "metadata": {},
   "source": [
    "# Añado columna con nombre completo a old_HDD"
   ]
  },
  {
   "cell_type": "code",
   "execution_count": 7,
   "id": "b3945abe",
   "metadata": {},
   "outputs": [],
   "source": [
    "old_HDD['full_name'] = old_HDD['first_name'] + \" \"+old_HDD['last_name']"
   ]
  },
  {
   "cell_type": "code",
   "execution_count": 8,
   "id": "4f56decd",
   "metadata": {},
   "outputs": [
    {
     "data": {
      "text/html": [
       "<div>\n",
       "<style scoped>\n",
       "    .dataframe tbody tr th:only-of-type {\n",
       "        vertical-align: middle;\n",
       "    }\n",
       "\n",
       "    .dataframe tbody tr th {\n",
       "        vertical-align: top;\n",
       "    }\n",
       "\n",
       "    .dataframe thead th {\n",
       "        text-align: right;\n",
       "    }\n",
       "</style>\n",
       "<table border=\"1\" class=\"dataframe\">\n",
       "  <thead>\n",
       "    <tr style=\"text-align: right;\">\n",
       "      <th></th>\n",
       "      <th>first_name</th>\n",
       "      <th>last_name</th>\n",
       "      <th>title</th>\n",
       "      <th>release_year</th>\n",
       "      <th>category_id</th>\n",
       "      <th>full_name</th>\n",
       "    </tr>\n",
       "  </thead>\n",
       "  <tbody>\n",
       "    <tr>\n",
       "      <th>0</th>\n",
       "      <td>PENELOPE</td>\n",
       "      <td>GUINESS</td>\n",
       "      <td>ACADEMY DINOSAUR</td>\n",
       "      <td>2006</td>\n",
       "      <td>6</td>\n",
       "      <td>PENELOPE GUINESS</td>\n",
       "    </tr>\n",
       "    <tr>\n",
       "      <th>1</th>\n",
       "      <td>PENELOPE</td>\n",
       "      <td>GUINESS</td>\n",
       "      <td>ANACONDA CONFESSIONS</td>\n",
       "      <td>2006</td>\n",
       "      <td>2</td>\n",
       "      <td>PENELOPE GUINESS</td>\n",
       "    </tr>\n",
       "    <tr>\n",
       "      <th>2</th>\n",
       "      <td>PENELOPE</td>\n",
       "      <td>GUINESS</td>\n",
       "      <td>ANGELS LIFE</td>\n",
       "      <td>2006</td>\n",
       "      <td>13</td>\n",
       "      <td>PENELOPE GUINESS</td>\n",
       "    </tr>\n",
       "    <tr>\n",
       "      <th>3</th>\n",
       "      <td>PENELOPE</td>\n",
       "      <td>GUINESS</td>\n",
       "      <td>BULWORTH COMMANDMENTS</td>\n",
       "      <td>2006</td>\n",
       "      <td>10</td>\n",
       "      <td>PENELOPE GUINESS</td>\n",
       "    </tr>\n",
       "    <tr>\n",
       "      <th>4</th>\n",
       "      <td>PENELOPE</td>\n",
       "      <td>GUINESS</td>\n",
       "      <td>CHEAPER CLYDE</td>\n",
       "      <td>2006</td>\n",
       "      <td>14</td>\n",
       "      <td>PENELOPE GUINESS</td>\n",
       "    </tr>\n",
       "  </tbody>\n",
       "</table>\n",
       "</div>"
      ],
      "text/plain": [
       "  first_name last_name                  title  release_year  category_id  \\\n",
       "0   PENELOPE   GUINESS       ACADEMY DINOSAUR          2006            6   \n",
       "1   PENELOPE   GUINESS   ANACONDA CONFESSIONS          2006            2   \n",
       "2   PENELOPE   GUINESS            ANGELS LIFE          2006           13   \n",
       "3   PENELOPE   GUINESS  BULWORTH COMMANDMENTS          2006           10   \n",
       "4   PENELOPE   GUINESS          CHEAPER CLYDE          2006           14   \n",
       "\n",
       "          full_name  \n",
       "0  PENELOPE GUINESS  \n",
       "1  PENELOPE GUINESS  \n",
       "2  PENELOPE GUINESS  \n",
       "3  PENELOPE GUINESS  \n",
       "4  PENELOPE GUINESS  "
      ]
     },
     "execution_count": 8,
     "metadata": {},
     "output_type": "execute_result"
    }
   ],
   "source": [
    "old_HDD.head()"
   ]
  },
  {
   "cell_type": "code",
   "execution_count": null,
   "id": "ff7d0409",
   "metadata": {},
   "outputs": [],
   "source": []
  },
  {
   "cell_type": "markdown",
   "id": "e475b8cb",
   "metadata": {},
   "source": [
    "# Añado columna con nombre completo a actor"
   ]
  },
  {
   "cell_type": "code",
   "execution_count": 9,
   "id": "5a6fa192",
   "metadata": {},
   "outputs": [],
   "source": [
    "actor['full_name'] = actor['first_name'] + \" \"+actor['last_name']"
   ]
  },
  {
   "cell_type": "code",
   "execution_count": 10,
   "id": "cf47fa02",
   "metadata": {},
   "outputs": [
    {
     "data": {
      "text/html": [
       "<div>\n",
       "<style scoped>\n",
       "    .dataframe tbody tr th:only-of-type {\n",
       "        vertical-align: middle;\n",
       "    }\n",
       "\n",
       "    .dataframe tbody tr th {\n",
       "        vertical-align: top;\n",
       "    }\n",
       "\n",
       "    .dataframe thead th {\n",
       "        text-align: right;\n",
       "    }\n",
       "</style>\n",
       "<table border=\"1\" class=\"dataframe\">\n",
       "  <thead>\n",
       "    <tr style=\"text-align: right;\">\n",
       "      <th></th>\n",
       "      <th>actor_id</th>\n",
       "      <th>first_name</th>\n",
       "      <th>last_name</th>\n",
       "      <th>last_update</th>\n",
       "      <th>full_name</th>\n",
       "    </tr>\n",
       "  </thead>\n",
       "  <tbody>\n",
       "    <tr>\n",
       "      <th>0</th>\n",
       "      <td>1</td>\n",
       "      <td>PENELOPE</td>\n",
       "      <td>GUINESS</td>\n",
       "      <td>2006-02-15 04:34:33</td>\n",
       "      <td>PENELOPE GUINESS</td>\n",
       "    </tr>\n",
       "    <tr>\n",
       "      <th>1</th>\n",
       "      <td>2</td>\n",
       "      <td>NICK</td>\n",
       "      <td>WAHLBERG</td>\n",
       "      <td>2006-02-15 04:34:33</td>\n",
       "      <td>NICK WAHLBERG</td>\n",
       "    </tr>\n",
       "    <tr>\n",
       "      <th>2</th>\n",
       "      <td>3</td>\n",
       "      <td>ED</td>\n",
       "      <td>CHASE</td>\n",
       "      <td>2006-02-15 04:34:33</td>\n",
       "      <td>ED CHASE</td>\n",
       "    </tr>\n",
       "    <tr>\n",
       "      <th>3</th>\n",
       "      <td>4</td>\n",
       "      <td>JENNIFER</td>\n",
       "      <td>DAVIS</td>\n",
       "      <td>2006-02-15 04:34:33</td>\n",
       "      <td>JENNIFER DAVIS</td>\n",
       "    </tr>\n",
       "    <tr>\n",
       "      <th>4</th>\n",
       "      <td>5</td>\n",
       "      <td>JOHNNY</td>\n",
       "      <td>LOLLOBRIGIDA</td>\n",
       "      <td>2006-02-15 04:34:33</td>\n",
       "      <td>JOHNNY LOLLOBRIGIDA</td>\n",
       "    </tr>\n",
       "  </tbody>\n",
       "</table>\n",
       "</div>"
      ],
      "text/plain": [
       "   actor_id first_name     last_name          last_update            full_name\n",
       "0         1   PENELOPE       GUINESS  2006-02-15 04:34:33     PENELOPE GUINESS\n",
       "1         2       NICK      WAHLBERG  2006-02-15 04:34:33        NICK WAHLBERG\n",
       "2         3         ED         CHASE  2006-02-15 04:34:33             ED CHASE\n",
       "3         4   JENNIFER         DAVIS  2006-02-15 04:34:33       JENNIFER DAVIS\n",
       "4         5     JOHNNY  LOLLOBRIGIDA  2006-02-15 04:34:33  JOHNNY LOLLOBRIGIDA"
      ]
     },
     "execution_count": 10,
     "metadata": {},
     "output_type": "execute_result"
    }
   ],
   "source": [
    "actor.head()"
   ]
  },
  {
   "cell_type": "markdown",
   "id": "1c17cba1",
   "metadata": {},
   "source": [
    "# Añado columna con el actor_id a los registros de old_HDD"
   ]
  },
  {
   "cell_type": "code",
   "execution_count": 11,
   "id": "cab4dc46",
   "metadata": {},
   "outputs": [],
   "source": [
    "old_HDD[\"actor_id\"] = \"\""
   ]
  },
  {
   "cell_type": "code",
   "execution_count": 12,
   "id": "169f2e40",
   "metadata": {},
   "outputs": [],
   "source": [
    "i = 0\n",
    "for ele in actor[\"full_name\"]:\n",
    "    j = 0\n",
    "    for fil in old_HDD[\"full_name\"]:\n",
    "        if ele == fil:            \n",
    "            old_HDD.iloc[j,6] = actor.iloc[i, 0]           \n",
    "        j += 1\n",
    "    i += 1\n",
    "\n",
    "            "
   ]
  },
  {
   "cell_type": "code",
   "execution_count": 13,
   "id": "c252349a",
   "metadata": {},
   "outputs": [
    {
     "data": {
      "text/html": [
       "<div>\n",
       "<style scoped>\n",
       "    .dataframe tbody tr th:only-of-type {\n",
       "        vertical-align: middle;\n",
       "    }\n",
       "\n",
       "    .dataframe tbody tr th {\n",
       "        vertical-align: top;\n",
       "    }\n",
       "\n",
       "    .dataframe thead th {\n",
       "        text-align: right;\n",
       "    }\n",
       "</style>\n",
       "<table border=\"1\" class=\"dataframe\">\n",
       "  <thead>\n",
       "    <tr style=\"text-align: right;\">\n",
       "      <th></th>\n",
       "      <th>first_name</th>\n",
       "      <th>last_name</th>\n",
       "      <th>title</th>\n",
       "      <th>release_year</th>\n",
       "      <th>category_id</th>\n",
       "      <th>full_name</th>\n",
       "      <th>actor_id</th>\n",
       "    </tr>\n",
       "  </thead>\n",
       "  <tbody>\n",
       "    <tr>\n",
       "      <th>0</th>\n",
       "      <td>PENELOPE</td>\n",
       "      <td>GUINESS</td>\n",
       "      <td>ACADEMY DINOSAUR</td>\n",
       "      <td>2006</td>\n",
       "      <td>6</td>\n",
       "      <td>PENELOPE GUINESS</td>\n",
       "      <td>1</td>\n",
       "    </tr>\n",
       "    <tr>\n",
       "      <th>1</th>\n",
       "      <td>PENELOPE</td>\n",
       "      <td>GUINESS</td>\n",
       "      <td>ANACONDA CONFESSIONS</td>\n",
       "      <td>2006</td>\n",
       "      <td>2</td>\n",
       "      <td>PENELOPE GUINESS</td>\n",
       "      <td>1</td>\n",
       "    </tr>\n",
       "    <tr>\n",
       "      <th>2</th>\n",
       "      <td>PENELOPE</td>\n",
       "      <td>GUINESS</td>\n",
       "      <td>ANGELS LIFE</td>\n",
       "      <td>2006</td>\n",
       "      <td>13</td>\n",
       "      <td>PENELOPE GUINESS</td>\n",
       "      <td>1</td>\n",
       "    </tr>\n",
       "    <tr>\n",
       "      <th>3</th>\n",
       "      <td>PENELOPE</td>\n",
       "      <td>GUINESS</td>\n",
       "      <td>BULWORTH COMMANDMENTS</td>\n",
       "      <td>2006</td>\n",
       "      <td>10</td>\n",
       "      <td>PENELOPE GUINESS</td>\n",
       "      <td>1</td>\n",
       "    </tr>\n",
       "    <tr>\n",
       "      <th>4</th>\n",
       "      <td>PENELOPE</td>\n",
       "      <td>GUINESS</td>\n",
       "      <td>CHEAPER CLYDE</td>\n",
       "      <td>2006</td>\n",
       "      <td>14</td>\n",
       "      <td>PENELOPE GUINESS</td>\n",
       "      <td>1</td>\n",
       "    </tr>\n",
       "  </tbody>\n",
       "</table>\n",
       "</div>"
      ],
      "text/plain": [
       "  first_name last_name                  title  release_year  category_id  \\\n",
       "0   PENELOPE   GUINESS       ACADEMY DINOSAUR          2006            6   \n",
       "1   PENELOPE   GUINESS   ANACONDA CONFESSIONS          2006            2   \n",
       "2   PENELOPE   GUINESS            ANGELS LIFE          2006           13   \n",
       "3   PENELOPE   GUINESS  BULWORTH COMMANDMENTS          2006           10   \n",
       "4   PENELOPE   GUINESS          CHEAPER CLYDE          2006           14   \n",
       "\n",
       "          full_name actor_id  \n",
       "0  PENELOPE GUINESS        1  \n",
       "1  PENELOPE GUINESS        1  \n",
       "2  PENELOPE GUINESS        1  \n",
       "3  PENELOPE GUINESS        1  \n",
       "4  PENELOPE GUINESS        1  "
      ]
     },
     "execution_count": 13,
     "metadata": {},
     "output_type": "execute_result"
    }
   ],
   "source": [
    "old_HDD.head()"
   ]
  },
  {
   "cell_type": "markdown",
   "id": "1ae41a26",
   "metadata": {},
   "source": [
    "# Añado columna con el film_id a los registros de old_HDD"
   ]
  },
  {
   "cell_type": "code",
   "execution_count": 14,
   "id": "2b5821b1",
   "metadata": {},
   "outputs": [
    {
     "data": {
      "text/html": [
       "<div>\n",
       "<style scoped>\n",
       "    .dataframe tbody tr th:only-of-type {\n",
       "        vertical-align: middle;\n",
       "    }\n",
       "\n",
       "    .dataframe tbody tr th {\n",
       "        vertical-align: top;\n",
       "    }\n",
       "\n",
       "    .dataframe thead th {\n",
       "        text-align: right;\n",
       "    }\n",
       "</style>\n",
       "<table border=\"1\" class=\"dataframe\">\n",
       "  <thead>\n",
       "    <tr style=\"text-align: right;\">\n",
       "      <th></th>\n",
       "      <th>first_name</th>\n",
       "      <th>last_name</th>\n",
       "      <th>title</th>\n",
       "      <th>release_year</th>\n",
       "      <th>category_id</th>\n",
       "      <th>full_name</th>\n",
       "      <th>actor_id</th>\n",
       "      <th>film_id</th>\n",
       "    </tr>\n",
       "  </thead>\n",
       "  <tbody>\n",
       "    <tr>\n",
       "      <th>0</th>\n",
       "      <td>PENELOPE</td>\n",
       "      <td>GUINESS</td>\n",
       "      <td>ACADEMY DINOSAUR</td>\n",
       "      <td>2006</td>\n",
       "      <td>6</td>\n",
       "      <td>PENELOPE GUINESS</td>\n",
       "      <td>1</td>\n",
       "      <td></td>\n",
       "    </tr>\n",
       "    <tr>\n",
       "      <th>1</th>\n",
       "      <td>PENELOPE</td>\n",
       "      <td>GUINESS</td>\n",
       "      <td>ANACONDA CONFESSIONS</td>\n",
       "      <td>2006</td>\n",
       "      <td>2</td>\n",
       "      <td>PENELOPE GUINESS</td>\n",
       "      <td>1</td>\n",
       "      <td></td>\n",
       "    </tr>\n",
       "    <tr>\n",
       "      <th>2</th>\n",
       "      <td>PENELOPE</td>\n",
       "      <td>GUINESS</td>\n",
       "      <td>ANGELS LIFE</td>\n",
       "      <td>2006</td>\n",
       "      <td>13</td>\n",
       "      <td>PENELOPE GUINESS</td>\n",
       "      <td>1</td>\n",
       "      <td></td>\n",
       "    </tr>\n",
       "    <tr>\n",
       "      <th>3</th>\n",
       "      <td>PENELOPE</td>\n",
       "      <td>GUINESS</td>\n",
       "      <td>BULWORTH COMMANDMENTS</td>\n",
       "      <td>2006</td>\n",
       "      <td>10</td>\n",
       "      <td>PENELOPE GUINESS</td>\n",
       "      <td>1</td>\n",
       "      <td></td>\n",
       "    </tr>\n",
       "    <tr>\n",
       "      <th>4</th>\n",
       "      <td>PENELOPE</td>\n",
       "      <td>GUINESS</td>\n",
       "      <td>CHEAPER CLYDE</td>\n",
       "      <td>2006</td>\n",
       "      <td>14</td>\n",
       "      <td>PENELOPE GUINESS</td>\n",
       "      <td>1</td>\n",
       "      <td></td>\n",
       "    </tr>\n",
       "  </tbody>\n",
       "</table>\n",
       "</div>"
      ],
      "text/plain": [
       "  first_name last_name                  title  release_year  category_id  \\\n",
       "0   PENELOPE   GUINESS       ACADEMY DINOSAUR          2006            6   \n",
       "1   PENELOPE   GUINESS   ANACONDA CONFESSIONS          2006            2   \n",
       "2   PENELOPE   GUINESS            ANGELS LIFE          2006           13   \n",
       "3   PENELOPE   GUINESS  BULWORTH COMMANDMENTS          2006           10   \n",
       "4   PENELOPE   GUINESS          CHEAPER CLYDE          2006           14   \n",
       "\n",
       "          full_name actor_id film_id  \n",
       "0  PENELOPE GUINESS        1          \n",
       "1  PENELOPE GUINESS        1          \n",
       "2  PENELOPE GUINESS        1          \n",
       "3  PENELOPE GUINESS        1          \n",
       "4  PENELOPE GUINESS        1          "
      ]
     },
     "execution_count": 14,
     "metadata": {},
     "output_type": "execute_result"
    }
   ],
   "source": [
    "old_HDD[\"film_id\"] = \"\"\n",
    "old_HDD.head()"
   ]
  },
  {
   "cell_type": "code",
   "execution_count": 15,
   "id": "26bbf2d3",
   "metadata": {},
   "outputs": [],
   "source": [
    "i = 0\n",
    "for ele in film[\"title\"]:\n",
    "    j = 0\n",
    "    for fil in old_HDD[\"title\"]:\n",
    "        if ele == fil:            \n",
    "            old_HDD.iloc[j,7] = film.iloc[i, 0]           \n",
    "        j += 1\n",
    "    i += 1\n"
   ]
  },
  {
   "cell_type": "code",
   "execution_count": 16,
   "id": "ee518afb",
   "metadata": {},
   "outputs": [
    {
     "data": {
      "text/html": [
       "<div>\n",
       "<style scoped>\n",
       "    .dataframe tbody tr th:only-of-type {\n",
       "        vertical-align: middle;\n",
       "    }\n",
       "\n",
       "    .dataframe tbody tr th {\n",
       "        vertical-align: top;\n",
       "    }\n",
       "\n",
       "    .dataframe thead th {\n",
       "        text-align: right;\n",
       "    }\n",
       "</style>\n",
       "<table border=\"1\" class=\"dataframe\">\n",
       "  <thead>\n",
       "    <tr style=\"text-align: right;\">\n",
       "      <th></th>\n",
       "      <th>first_name</th>\n",
       "      <th>last_name</th>\n",
       "      <th>title</th>\n",
       "      <th>release_year</th>\n",
       "      <th>category_id</th>\n",
       "      <th>full_name</th>\n",
       "      <th>actor_id</th>\n",
       "      <th>film_id</th>\n",
       "    </tr>\n",
       "  </thead>\n",
       "  <tbody>\n",
       "    <tr>\n",
       "      <th>0</th>\n",
       "      <td>PENELOPE</td>\n",
       "      <td>GUINESS</td>\n",
       "      <td>ACADEMY DINOSAUR</td>\n",
       "      <td>2006</td>\n",
       "      <td>6</td>\n",
       "      <td>PENELOPE GUINESS</td>\n",
       "      <td>1</td>\n",
       "      <td>1</td>\n",
       "    </tr>\n",
       "    <tr>\n",
       "      <th>1</th>\n",
       "      <td>PENELOPE</td>\n",
       "      <td>GUINESS</td>\n",
       "      <td>ANACONDA CONFESSIONS</td>\n",
       "      <td>2006</td>\n",
       "      <td>2</td>\n",
       "      <td>PENELOPE GUINESS</td>\n",
       "      <td>1</td>\n",
       "      <td>23</td>\n",
       "    </tr>\n",
       "    <tr>\n",
       "      <th>2</th>\n",
       "      <td>PENELOPE</td>\n",
       "      <td>GUINESS</td>\n",
       "      <td>ANGELS LIFE</td>\n",
       "      <td>2006</td>\n",
       "      <td>13</td>\n",
       "      <td>PENELOPE GUINESS</td>\n",
       "      <td>1</td>\n",
       "      <td>25</td>\n",
       "    </tr>\n",
       "    <tr>\n",
       "      <th>3</th>\n",
       "      <td>PENELOPE</td>\n",
       "      <td>GUINESS</td>\n",
       "      <td>BULWORTH COMMANDMENTS</td>\n",
       "      <td>2006</td>\n",
       "      <td>10</td>\n",
       "      <td>PENELOPE GUINESS</td>\n",
       "      <td>1</td>\n",
       "      <td>106</td>\n",
       "    </tr>\n",
       "    <tr>\n",
       "      <th>4</th>\n",
       "      <td>PENELOPE</td>\n",
       "      <td>GUINESS</td>\n",
       "      <td>CHEAPER CLYDE</td>\n",
       "      <td>2006</td>\n",
       "      <td>14</td>\n",
       "      <td>PENELOPE GUINESS</td>\n",
       "      <td>1</td>\n",
       "      <td>140</td>\n",
       "    </tr>\n",
       "  </tbody>\n",
       "</table>\n",
       "</div>"
      ],
      "text/plain": [
       "  first_name last_name                  title  release_year  category_id  \\\n",
       "0   PENELOPE   GUINESS       ACADEMY DINOSAUR          2006            6   \n",
       "1   PENELOPE   GUINESS   ANACONDA CONFESSIONS          2006            2   \n",
       "2   PENELOPE   GUINESS            ANGELS LIFE          2006           13   \n",
       "3   PENELOPE   GUINESS  BULWORTH COMMANDMENTS          2006           10   \n",
       "4   PENELOPE   GUINESS          CHEAPER CLYDE          2006           14   \n",
       "\n",
       "          full_name actor_id film_id  \n",
       "0  PENELOPE GUINESS        1       1  \n",
       "1  PENELOPE GUINESS        1      23  \n",
       "2  PENELOPE GUINESS        1      25  \n",
       "3  PENELOPE GUINESS        1     106  \n",
       "4  PENELOPE GUINESS        1     140  "
      ]
     },
     "execution_count": 16,
     "metadata": {},
     "output_type": "execute_result"
    }
   ],
   "source": [
    "old_HDD.head()"
   ]
  },
  {
   "cell_type": "code",
   "execution_count": 17,
   "id": "1d3b4808",
   "metadata": {},
   "outputs": [],
   "source": [
    "lista_films = list(film.title.unique())"
   ]
  },
  {
   "cell_type": "code",
   "execution_count": 18,
   "id": "591b90d1",
   "metadata": {},
   "outputs": [
    {
     "name": "stdout",
     "output_type": "stream",
     "text": [
      "(1000, 8)\n"
     ]
    },
    {
     "data": {
      "text/plain": [
       "[]"
      ]
     },
     "execution_count": 18,
     "metadata": {},
     "output_type": "execute_result"
    }
   ],
   "source": [
    "print(old_HDD.shape)\n",
    "indices = []\n",
    "i=0\n",
    "for ele in old_HDD[\"title\"]:\n",
    "    if ele not in lista_films:\n",
    "        indices.append(i)\n",
    "    i += 1\n",
    "\n",
    "indices"
   ]
  },
  {
   "cell_type": "markdown",
   "id": "29c74997",
   "metadata": {},
   "source": [
    "# Borro todas las columnas de old_HDD salvo title_id, actor_id y category_id"
   ]
  },
  {
   "cell_type": "markdown",
   "id": "2c9ecccd",
   "metadata": {},
   "source": [
    "old_HDD.drop(indices, inplace=True)"
   ]
  },
  {
   "cell_type": "code",
   "execution_count": 19,
   "id": "7e9d8f44",
   "metadata": {},
   "outputs": [],
   "source": [
    "old_HDD.drop(columns = [\"last_name\",\"first_name\",\"title\",\"release_year\",\"full_name\"], inplace = True)"
   ]
  },
  {
   "cell_type": "code",
   "execution_count": 20,
   "id": "07d45af7",
   "metadata": {},
   "outputs": [
    {
     "data": {
      "text/plain": [
       "(1000, 4)"
      ]
     },
     "execution_count": 20,
     "metadata": {},
     "output_type": "execute_result"
    }
   ],
   "source": [
    "#Carga de datos y  comprobación del shape\n",
    "pd.set_option('display.max_columns', None)\n",
    "inventory_ori = pd.read_csv(\"../data/inventory.csv\", encoding = \"latin1\")\n",
    "inventory_ori.shape"
   ]
  },
  {
   "cell_type": "markdown",
   "id": "2bf35e3a",
   "metadata": {},
   "source": [
    "# Creo una columna para incluir la categoria de la pelicula el film y añado una categoria (17) para los casos donde no sea conocida"
   ]
  },
  {
   "cell_type": "code",
   "execution_count": 21,
   "id": "2288b86f",
   "metadata": {},
   "outputs": [],
   "source": [
    "film[\"category_id\"] = None\n"
   ]
  },
  {
   "cell_type": "code",
   "execution_count": 22,
   "id": "4bd354cf",
   "metadata": {},
   "outputs": [],
   "source": [
    "i = 0\n",
    "for ele in old_HDD[\"film_id\"]:\n",
    "    j = 0\n",
    "    for fil in film[\"film_id\"]:\n",
    "        if ele == fil:            \n",
    "            film.iloc[j,13] = old_HDD.iloc[i,0]   \n",
    "        j += 1          \n",
    "    i += 1"
   ]
  },
  {
   "cell_type": "code",
   "execution_count": 23,
   "id": "1076bfe6",
   "metadata": {},
   "outputs": [
    {
     "data": {
      "text/plain": [
       "2     50\n",
       "15    46\n",
       "11    45\n",
       "13    45\n",
       "6     44\n",
       "1     43\n",
       "9     40\n",
       "7     40\n",
       "4     38\n",
       "14    36\n",
       "8     34\n",
       "16    32\n",
       "3     32\n",
       "5     32\n",
       "12    31\n",
       "10    26\n",
       "Name: category_id, dtype: int64"
      ]
     },
     "execution_count": 23,
     "metadata": {},
     "output_type": "execute_result"
    }
   ],
   "source": [
    "film.category_id.value_counts()"
   ]
  },
  {
   "cell_type": "code",
   "execution_count": 24,
   "id": "f3ceaf5e",
   "metadata": {},
   "outputs": [],
   "source": [
    "film.category_id.fillna(17, inplace = True)"
   ]
  },
  {
   "cell_type": "markdown",
   "id": "432afbe9",
   "metadata": {},
   "source": [
    "# Elimino la columna \"original_language_id\" de film por ser todos sus valores nulos y \"last_update\" de film, actor y old_HDD por no considerarse útil en este caso"
   ]
  },
  {
   "cell_type": "code",
   "execution_count": 25,
   "id": "27040db7",
   "metadata": {},
   "outputs": [],
   "source": [
    "film.drop(columns = [\"original_language_id\"], inplace = True)"
   ]
  },
  {
   "cell_type": "code",
   "execution_count": 26,
   "id": "bac00f34",
   "metadata": {},
   "outputs": [
    {
     "data": {
      "text/html": [
       "<div>\n",
       "<style scoped>\n",
       "    .dataframe tbody tr th:only-of-type {\n",
       "        vertical-align: middle;\n",
       "    }\n",
       "\n",
       "    .dataframe tbody tr th {\n",
       "        vertical-align: top;\n",
       "    }\n",
       "\n",
       "    .dataframe thead th {\n",
       "        text-align: right;\n",
       "    }\n",
       "</style>\n",
       "<table border=\"1\" class=\"dataframe\">\n",
       "  <thead>\n",
       "    <tr style=\"text-align: right;\">\n",
       "      <th></th>\n",
       "      <th>film_id</th>\n",
       "      <th>title</th>\n",
       "      <th>description</th>\n",
       "      <th>release_year</th>\n",
       "      <th>language_id</th>\n",
       "      <th>rental_duration</th>\n",
       "      <th>rental_rate</th>\n",
       "      <th>length</th>\n",
       "      <th>replacement_cost</th>\n",
       "      <th>rating</th>\n",
       "      <th>special_features</th>\n",
       "      <th>last_update</th>\n",
       "      <th>category_id</th>\n",
       "    </tr>\n",
       "  </thead>\n",
       "  <tbody>\n",
       "    <tr>\n",
       "      <th>0</th>\n",
       "      <td>1</td>\n",
       "      <td>ACADEMY DINOSAUR</td>\n",
       "      <td>A Epic Drama of a Feminist And a Mad Scientist...</td>\n",
       "      <td>2006</td>\n",
       "      <td>1</td>\n",
       "      <td>6</td>\n",
       "      <td>0.99</td>\n",
       "      <td>86</td>\n",
       "      <td>20.99</td>\n",
       "      <td>PG</td>\n",
       "      <td>Deleted Scenes,Behind the Scenes</td>\n",
       "      <td>2006-02-15 05:03:42</td>\n",
       "      <td>6</td>\n",
       "    </tr>\n",
       "    <tr>\n",
       "      <th>1</th>\n",
       "      <td>2</td>\n",
       "      <td>ACE GOLDFINGER</td>\n",
       "      <td>A Astounding Epistle of a Database Administrat...</td>\n",
       "      <td>2006</td>\n",
       "      <td>1</td>\n",
       "      <td>3</td>\n",
       "      <td>4.99</td>\n",
       "      <td>48</td>\n",
       "      <td>12.99</td>\n",
       "      <td>G</td>\n",
       "      <td>Trailers,Deleted Scenes</td>\n",
       "      <td>2006-02-15 05:03:42</td>\n",
       "      <td>11</td>\n",
       "    </tr>\n",
       "    <tr>\n",
       "      <th>2</th>\n",
       "      <td>3</td>\n",
       "      <td>ADAPTATION HOLES</td>\n",
       "      <td>A Astounding Reflection of a Lumberjack And a ...</td>\n",
       "      <td>2006</td>\n",
       "      <td>1</td>\n",
       "      <td>7</td>\n",
       "      <td>2.99</td>\n",
       "      <td>50</td>\n",
       "      <td>18.99</td>\n",
       "      <td>NC-17</td>\n",
       "      <td>Trailers,Deleted Scenes</td>\n",
       "      <td>2006-02-15 05:03:42</td>\n",
       "      <td>6</td>\n",
       "    </tr>\n",
       "    <tr>\n",
       "      <th>3</th>\n",
       "      <td>4</td>\n",
       "      <td>AFFAIR PREJUDICE</td>\n",
       "      <td>A Fanciful Documentary of a Frisbee And a Lumb...</td>\n",
       "      <td>2006</td>\n",
       "      <td>1</td>\n",
       "      <td>5</td>\n",
       "      <td>2.99</td>\n",
       "      <td>117</td>\n",
       "      <td>26.99</td>\n",
       "      <td>G</td>\n",
       "      <td>Commentaries,Behind the Scenes</td>\n",
       "      <td>2006-02-15 05:03:42</td>\n",
       "      <td>17</td>\n",
       "    </tr>\n",
       "    <tr>\n",
       "      <th>4</th>\n",
       "      <td>5</td>\n",
       "      <td>AFRICAN EGG</td>\n",
       "      <td>A Fast-Paced Documentary of a Pastry Chef And ...</td>\n",
       "      <td>2006</td>\n",
       "      <td>1</td>\n",
       "      <td>6</td>\n",
       "      <td>2.99</td>\n",
       "      <td>130</td>\n",
       "      <td>22.99</td>\n",
       "      <td>G</td>\n",
       "      <td>Deleted Scenes</td>\n",
       "      <td>2006-02-15 05:03:42</td>\n",
       "      <td>17</td>\n",
       "    </tr>\n",
       "  </tbody>\n",
       "</table>\n",
       "</div>"
      ],
      "text/plain": [
       "   film_id             title  \\\n",
       "0        1  ACADEMY DINOSAUR   \n",
       "1        2    ACE GOLDFINGER   \n",
       "2        3  ADAPTATION HOLES   \n",
       "3        4  AFFAIR PREJUDICE   \n",
       "4        5       AFRICAN EGG   \n",
       "\n",
       "                                         description  release_year  \\\n",
       "0  A Epic Drama of a Feminist And a Mad Scientist...          2006   \n",
       "1  A Astounding Epistle of a Database Administrat...          2006   \n",
       "2  A Astounding Reflection of a Lumberjack And a ...          2006   \n",
       "3  A Fanciful Documentary of a Frisbee And a Lumb...          2006   \n",
       "4  A Fast-Paced Documentary of a Pastry Chef And ...          2006   \n",
       "\n",
       "   language_id  rental_duration  rental_rate  length  replacement_cost rating  \\\n",
       "0            1                6         0.99      86             20.99     PG   \n",
       "1            1                3         4.99      48             12.99      G   \n",
       "2            1                7         2.99      50             18.99  NC-17   \n",
       "3            1                5         2.99     117             26.99      G   \n",
       "4            1                6         2.99     130             22.99      G   \n",
       "\n",
       "                   special_features          last_update  category_id  \n",
       "0  Deleted Scenes,Behind the Scenes  2006-02-15 05:03:42            6  \n",
       "1           Trailers,Deleted Scenes  2006-02-15 05:03:42           11  \n",
       "2           Trailers,Deleted Scenes  2006-02-15 05:03:42            6  \n",
       "3    Commentaries,Behind the Scenes  2006-02-15 05:03:42           17  \n",
       "4                    Deleted Scenes  2006-02-15 05:03:42           17  "
      ]
     },
     "execution_count": 26,
     "metadata": {},
     "output_type": "execute_result"
    }
   ],
   "source": [
    "film.head()"
   ]
  },
  {
   "cell_type": "code",
   "execution_count": 27,
   "id": "a37739c4",
   "metadata": {},
   "outputs": [],
   "source": [
    "film.drop(columns = [\"last_update\"], inplace = True)"
   ]
  },
  {
   "cell_type": "code",
   "execution_count": 28,
   "id": "f05c6765",
   "metadata": {},
   "outputs": [],
   "source": [
    "old_HDD.drop(columns = [\"category_id\"], inplace = True)"
   ]
  },
  {
   "cell_type": "code",
   "execution_count": 29,
   "id": "73b7507a",
   "metadata": {},
   "outputs": [],
   "source": [
    "actor.drop(columns = [\"last_update\"], inplace = True)"
   ]
  },
  {
   "cell_type": "markdown",
   "id": "b7efdb87",
   "metadata": {},
   "source": [
    "# Utilizo ahora el DataFrame old_HDD como una tabla relacional entre film y actor"
   ]
  },
  {
   "cell_type": "code",
   "execution_count": 30,
   "id": "78a3630c",
   "metadata": {},
   "outputs": [],
   "source": [
    "film_cast = old_HDD.copy()"
   ]
  },
  {
   "cell_type": "code",
   "execution_count": null,
   "id": "1ab84301",
   "metadata": {},
   "outputs": [],
   "source": []
  },
  {
   "cell_type": "code",
   "execution_count": 31,
   "id": "9917a167",
   "metadata": {},
   "outputs": [],
   "source": [
    "#film_cast.insert(0, 'cast_id', [i+1 for i in range(len(film_cast))])\n",
    "#film_cast.head()"
   ]
  },
  {
   "cell_type": "code",
   "execution_count": 32,
   "id": "6fcbd272",
   "metadata": {},
   "outputs": [
    {
     "data": {
      "text/html": [
       "<div>\n",
       "<style scoped>\n",
       "    .dataframe tbody tr th:only-of-type {\n",
       "        vertical-align: middle;\n",
       "    }\n",
       "\n",
       "    .dataframe tbody tr th {\n",
       "        vertical-align: top;\n",
       "    }\n",
       "\n",
       "    .dataframe thead th {\n",
       "        text-align: right;\n",
       "    }\n",
       "</style>\n",
       "<table border=\"1\" class=\"dataframe\">\n",
       "  <thead>\n",
       "    <tr style=\"text-align: right;\">\n",
       "      <th></th>\n",
       "      <th>actor_id</th>\n",
       "      <th>film_id</th>\n",
       "    </tr>\n",
       "  </thead>\n",
       "  <tbody>\n",
       "    <tr>\n",
       "      <th>0</th>\n",
       "      <td>1</td>\n",
       "      <td>1</td>\n",
       "    </tr>\n",
       "    <tr>\n",
       "      <th>1</th>\n",
       "      <td>1</td>\n",
       "      <td>23</td>\n",
       "    </tr>\n",
       "    <tr>\n",
       "      <th>2</th>\n",
       "      <td>1</td>\n",
       "      <td>25</td>\n",
       "    </tr>\n",
       "    <tr>\n",
       "      <th>3</th>\n",
       "      <td>1</td>\n",
       "      <td>106</td>\n",
       "    </tr>\n",
       "    <tr>\n",
       "      <th>4</th>\n",
       "      <td>1</td>\n",
       "      <td>140</td>\n",
       "    </tr>\n",
       "  </tbody>\n",
       "</table>\n",
       "</div>"
      ],
      "text/plain": [
       "  actor_id film_id\n",
       "0        1       1\n",
       "1        1      23\n",
       "2        1      25\n",
       "3        1     106\n",
       "4        1     140"
      ]
     },
     "execution_count": 32,
     "metadata": {},
     "output_type": "execute_result"
    }
   ],
   "source": [
    "film_cast.head()"
   ]
  },
  {
   "cell_type": "code",
   "execution_count": 33,
   "id": "84c492d7",
   "metadata": {},
   "outputs": [
    {
     "data": {
      "text/html": [
       "<div>\n",
       "<style scoped>\n",
       "    .dataframe tbody tr th:only-of-type {\n",
       "        vertical-align: middle;\n",
       "    }\n",
       "\n",
       "    .dataframe tbody tr th {\n",
       "        vertical-align: top;\n",
       "    }\n",
       "\n",
       "    .dataframe thead th {\n",
       "        text-align: right;\n",
       "    }\n",
       "</style>\n",
       "<table border=\"1\" class=\"dataframe\">\n",
       "  <thead>\n",
       "    <tr style=\"text-align: right;\">\n",
       "      <th></th>\n",
       "      <th>actor_id</th>\n",
       "      <th>first_name</th>\n",
       "      <th>last_name</th>\n",
       "      <th>full_name</th>\n",
       "    </tr>\n",
       "  </thead>\n",
       "  <tbody>\n",
       "    <tr>\n",
       "      <th>0</th>\n",
       "      <td>1</td>\n",
       "      <td>PENELOPE</td>\n",
       "      <td>GUINESS</td>\n",
       "      <td>PENELOPE GUINESS</td>\n",
       "    </tr>\n",
       "    <tr>\n",
       "      <th>1</th>\n",
       "      <td>2</td>\n",
       "      <td>NICK</td>\n",
       "      <td>WAHLBERG</td>\n",
       "      <td>NICK WAHLBERG</td>\n",
       "    </tr>\n",
       "    <tr>\n",
       "      <th>2</th>\n",
       "      <td>3</td>\n",
       "      <td>ED</td>\n",
       "      <td>CHASE</td>\n",
       "      <td>ED CHASE</td>\n",
       "    </tr>\n",
       "    <tr>\n",
       "      <th>3</th>\n",
       "      <td>4</td>\n",
       "      <td>JENNIFER</td>\n",
       "      <td>DAVIS</td>\n",
       "      <td>JENNIFER DAVIS</td>\n",
       "    </tr>\n",
       "    <tr>\n",
       "      <th>4</th>\n",
       "      <td>5</td>\n",
       "      <td>JOHNNY</td>\n",
       "      <td>LOLLOBRIGIDA</td>\n",
       "      <td>JOHNNY LOLLOBRIGIDA</td>\n",
       "    </tr>\n",
       "  </tbody>\n",
       "</table>\n",
       "</div>"
      ],
      "text/plain": [
       "   actor_id first_name     last_name            full_name\n",
       "0         1   PENELOPE       GUINESS     PENELOPE GUINESS\n",
       "1         2       NICK      WAHLBERG        NICK WAHLBERG\n",
       "2         3         ED         CHASE             ED CHASE\n",
       "3         4   JENNIFER         DAVIS       JENNIFER DAVIS\n",
       "4         5     JOHNNY  LOLLOBRIGIDA  JOHNNY LOLLOBRIGIDA"
      ]
     },
     "execution_count": 33,
     "metadata": {},
     "output_type": "execute_result"
    }
   ],
   "source": [
    "actor.head()"
   ]
  },
  {
   "cell_type": "code",
   "execution_count": 34,
   "id": "290897b8",
   "metadata": {},
   "outputs": [
    {
     "data": {
      "text/plain": [
       "0       6\n",
       "1      11\n",
       "2       6\n",
       "3      17\n",
       "4      17\n",
       "       ..\n",
       "995     6\n",
       "996    12\n",
       "997    11\n",
       "998    17\n",
       "999    17\n",
       "Name: category_id, Length: 1000, dtype: int64"
      ]
     },
     "execution_count": 34,
     "metadata": {},
     "output_type": "execute_result"
    }
   ],
   "source": [
    "film.category_id.astype(dtype =\"int64\")\n",
    "#film.info()"
   ]
  },
  {
   "cell_type": "code",
   "execution_count": 35,
   "id": "074a3e77",
   "metadata": {},
   "outputs": [
    {
     "data": {
      "text/plain": [
       "0        1\n",
       "1       23\n",
       "2       25\n",
       "3      106\n",
       "4      140\n",
       "      ... \n",
       "995    168\n",
       "996    203\n",
       "997    222\n",
       "998    290\n",
       "999    293\n",
       "Name: film_id, Length: 1000, dtype: int64"
      ]
     },
     "execution_count": 35,
     "metadata": {},
     "output_type": "execute_result"
    }
   ],
   "source": [
    "film_cast.actor_id.astype(dtype =\"int64\")\n",
    "film_cast.film_id.astype(dtype =\"int64\")"
   ]
  },
  {
   "cell_type": "code",
   "execution_count": 36,
   "id": "c46e67cf",
   "metadata": {},
   "outputs": [
    {
     "name": "stdout",
     "output_type": "stream",
     "text": [
      "<class 'pandas.core.frame.DataFrame'>\n",
      "RangeIndex: 1000 entries, 0 to 999\n",
      "Data columns (total 2 columns):\n",
      " #   Column    Non-Null Count  Dtype \n",
      "---  ------    --------------  ----- \n",
      " 0   actor_id  1000 non-null   object\n",
      " 1   film_id   1000 non-null   object\n",
      "dtypes: object(2)\n",
      "memory usage: 15.8+ KB\n"
     ]
    }
   ],
   "source": [
    "film_cast.info()"
   ]
  },
  {
   "cell_type": "code",
   "execution_count": 37,
   "id": "1f10891f",
   "metadata": {},
   "outputs": [],
   "source": [
    "actor.reset_index(drop=True, inplace=True)\n",
    "actor.to_csv(\"../data/actor_clean.csv\", index=False)"
   ]
  },
  {
   "cell_type": "code",
   "execution_count": 38,
   "id": "363a92f2",
   "metadata": {},
   "outputs": [],
   "source": [
    "film_cast.reset_index(drop=True, inplace=True)\n",
    "film_cast.to_csv(\"../data/film_cast.csv\", index=False)"
   ]
  },
  {
   "cell_type": "code",
   "execution_count": 39,
   "id": "82a96d5d",
   "metadata": {},
   "outputs": [],
   "source": [
    "film.reset_index(drop=True, inplace=True)\n",
    "film.to_csv(\"../data/film_clean.csv\", index=False)"
   ]
  },
  {
   "cell_type": "code",
   "execution_count": 40,
   "id": "0741e91e",
   "metadata": {},
   "outputs": [
    {
     "data": {
      "text/html": [
       "<div>\n",
       "<style scoped>\n",
       "    .dataframe tbody tr th:only-of-type {\n",
       "        vertical-align: middle;\n",
       "    }\n",
       "\n",
       "    .dataframe tbody tr th {\n",
       "        vertical-align: top;\n",
       "    }\n",
       "\n",
       "    .dataframe thead th {\n",
       "        text-align: right;\n",
       "    }\n",
       "</style>\n",
       "<table border=\"1\" class=\"dataframe\">\n",
       "  <thead>\n",
       "    <tr style=\"text-align: right;\">\n",
       "      <th></th>\n",
       "      <th>film_id</th>\n",
       "      <th>title</th>\n",
       "      <th>description</th>\n",
       "      <th>release_year</th>\n",
       "      <th>language_id</th>\n",
       "      <th>rental_duration</th>\n",
       "      <th>rental_rate</th>\n",
       "      <th>length</th>\n",
       "      <th>replacement_cost</th>\n",
       "      <th>rating</th>\n",
       "      <th>special_features</th>\n",
       "      <th>category_id</th>\n",
       "    </tr>\n",
       "  </thead>\n",
       "  <tbody>\n",
       "    <tr>\n",
       "      <th>0</th>\n",
       "      <td>1</td>\n",
       "      <td>ACADEMY DINOSAUR</td>\n",
       "      <td>A Epic Drama of a Feminist And a Mad Scientist...</td>\n",
       "      <td>2006</td>\n",
       "      <td>1</td>\n",
       "      <td>6</td>\n",
       "      <td>0.99</td>\n",
       "      <td>86</td>\n",
       "      <td>20.99</td>\n",
       "      <td>PG</td>\n",
       "      <td>Deleted Scenes,Behind the Scenes</td>\n",
       "      <td>6</td>\n",
       "    </tr>\n",
       "    <tr>\n",
       "      <th>1</th>\n",
       "      <td>2</td>\n",
       "      <td>ACE GOLDFINGER</td>\n",
       "      <td>A Astounding Epistle of a Database Administrat...</td>\n",
       "      <td>2006</td>\n",
       "      <td>1</td>\n",
       "      <td>3</td>\n",
       "      <td>4.99</td>\n",
       "      <td>48</td>\n",
       "      <td>12.99</td>\n",
       "      <td>G</td>\n",
       "      <td>Trailers,Deleted Scenes</td>\n",
       "      <td>11</td>\n",
       "    </tr>\n",
       "    <tr>\n",
       "      <th>2</th>\n",
       "      <td>3</td>\n",
       "      <td>ADAPTATION HOLES</td>\n",
       "      <td>A Astounding Reflection of a Lumberjack And a ...</td>\n",
       "      <td>2006</td>\n",
       "      <td>1</td>\n",
       "      <td>7</td>\n",
       "      <td>2.99</td>\n",
       "      <td>50</td>\n",
       "      <td>18.99</td>\n",
       "      <td>NC-17</td>\n",
       "      <td>Trailers,Deleted Scenes</td>\n",
       "      <td>6</td>\n",
       "    </tr>\n",
       "    <tr>\n",
       "      <th>3</th>\n",
       "      <td>4</td>\n",
       "      <td>AFFAIR PREJUDICE</td>\n",
       "      <td>A Fanciful Documentary of a Frisbee And a Lumb...</td>\n",
       "      <td>2006</td>\n",
       "      <td>1</td>\n",
       "      <td>5</td>\n",
       "      <td>2.99</td>\n",
       "      <td>117</td>\n",
       "      <td>26.99</td>\n",
       "      <td>G</td>\n",
       "      <td>Commentaries,Behind the Scenes</td>\n",
       "      <td>17</td>\n",
       "    </tr>\n",
       "    <tr>\n",
       "      <th>4</th>\n",
       "      <td>5</td>\n",
       "      <td>AFRICAN EGG</td>\n",
       "      <td>A Fast-Paced Documentary of a Pastry Chef And ...</td>\n",
       "      <td>2006</td>\n",
       "      <td>1</td>\n",
       "      <td>6</td>\n",
       "      <td>2.99</td>\n",
       "      <td>130</td>\n",
       "      <td>22.99</td>\n",
       "      <td>G</td>\n",
       "      <td>Deleted Scenes</td>\n",
       "      <td>17</td>\n",
       "    </tr>\n",
       "  </tbody>\n",
       "</table>\n",
       "</div>"
      ],
      "text/plain": [
       "   film_id             title  \\\n",
       "0        1  ACADEMY DINOSAUR   \n",
       "1        2    ACE GOLDFINGER   \n",
       "2        3  ADAPTATION HOLES   \n",
       "3        4  AFFAIR PREJUDICE   \n",
       "4        5       AFRICAN EGG   \n",
       "\n",
       "                                         description  release_year  \\\n",
       "0  A Epic Drama of a Feminist And a Mad Scientist...          2006   \n",
       "1  A Astounding Epistle of a Database Administrat...          2006   \n",
       "2  A Astounding Reflection of a Lumberjack And a ...          2006   \n",
       "3  A Fanciful Documentary of a Frisbee And a Lumb...          2006   \n",
       "4  A Fast-Paced Documentary of a Pastry Chef And ...          2006   \n",
       "\n",
       "   language_id  rental_duration  rental_rate  length  replacement_cost rating  \\\n",
       "0            1                6         0.99      86             20.99     PG   \n",
       "1            1                3         4.99      48             12.99      G   \n",
       "2            1                7         2.99      50             18.99  NC-17   \n",
       "3            1                5         2.99     117             26.99      G   \n",
       "4            1                6         2.99     130             22.99      G   \n",
       "\n",
       "                   special_features  category_id  \n",
       "0  Deleted Scenes,Behind the Scenes            6  \n",
       "1           Trailers,Deleted Scenes           11  \n",
       "2           Trailers,Deleted Scenes            6  \n",
       "3    Commentaries,Behind the Scenes           17  \n",
       "4                    Deleted Scenes           17  "
      ]
     },
     "execution_count": 40,
     "metadata": {},
     "output_type": "execute_result"
    }
   ],
   "source": [
    "film.head()"
   ]
  }
 ],
 "metadata": {
  "kernelspec": {
   "display_name": "clase",
   "language": "python",
   "name": "clase"
  },
  "language_info": {
   "codemirror_mode": {
    "name": "ipython",
    "version": 3
   },
   "file_extension": ".py",
   "mimetype": "text/x-python",
   "name": "python",
   "nbconvert_exporter": "python",
   "pygments_lexer": "ipython3",
   "version": "3.11.4"
  }
 },
 "nbformat": 4,
 "nbformat_minor": 5
}
